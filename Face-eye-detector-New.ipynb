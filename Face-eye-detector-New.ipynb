{
 "cells": [
  {
   "cell_type": "code",
   "execution_count": 2,
   "metadata": {},
   "outputs": [
    {
     "data": {
      "text/plain": [
       "930127"
      ]
     },
     "execution_count": 2,
     "metadata": {},
     "output_type": "execute_result"
    }
   ],
   "source": [
    "import numpy as np\n",
    "import requests\n",
    "import cv2\n",
    "url = 'https://raw.github.com/opencv/opencv/master/data/haarcascades/haarcascade_frontalface_default.xml'\n",
    "r = requests.get(url, allow_redirects=True)\n",
    "open('haarcascade_frontalface_default.xml', 'wb').write(r.content)"
   ]
  },
  {
   "cell_type": "code",
   "execution_count": 6,
   "metadata": {},
   "outputs": [],
   "source": [
    "img = cv2.imread('sample_images/2.jpg')\n",
    "cascade_faces = cv2.CascadeClassifier('haarcascade_frontalface_default.xml') \n",
    "gray = cv2.cvtColor(img, cv2.COLOR_BGR2GRAY)\n",
    "### Filter for face\n",
    "faces = cascade_faces.detectMultiScale(gray, 1.3,7)\n",
    "for (x1,y1,w1,h1) in faces:\n",
    "    cv2.rectangle(img,(x1,y1),(x1+w1,y1+h1),(10,255,0),int(img.shape[1]/80))\n",
    "    cv2.putText(img,'Face',(x1,y1),cv2.FONT_HERSHEY_COMPLEX,1,(250,250,250),1)\n",
    "img = cv2.resize(img,(1280,720))\n",
    "cv2.imshow('img',img) \n",
    "cv2.waitKey(0)\n",
    "cv2.destroyAllWindows()"
   ]
  },
  {
   "cell_type": "code",
   "execution_count": 3,
   "metadata": {},
   "outputs": [],
   "source": [
    "import os \n",
    "\n",
    "for i in os.listdir('sample_images'):\n",
    "    img = cv2.imread('sample_images/'+ i)\n",
    "    cascade_faces = cv2.CascadeClassifier('haarcascade_frontalface_default.xml') \n",
    "    gray = cv2.cvtColor(img, cv2.COLOR_BGR2GRAY)\n",
    "    ### Filter for face\n",
    "    faces = cascade_faces.detectMultiScale(gray, 1.3,7)\n",
    "    for (x1,y1,w1,h1) in faces:\n",
    "        cv2.rectangle(img,(x1,y1),(x1+w1,y1+h1),(10,255,0),int(img.shape[1]/80))\n",
    "        cv2.putText(img,'Face',(x1,y1),cv2.FONT_HERSHEY_COMPLEX,1,(250,250,250),1)\n",
    "    cv2.imwrite('out/' + i,img)\n",
    "    "
   ]
  },
  {
   "cell_type": "code",
   "execution_count": null,
   "metadata": {},
   "outputs": [],
   "source": []
  }
 ],
 "metadata": {
  "kernelspec": {
   "display_name": "Python 3",
   "language": "python",
   "name": "python3"
  },
  "language_info": {
   "codemirror_mode": {
    "name": "ipython",
    "version": 3
   },
   "file_extension": ".py",
   "mimetype": "text/x-python",
   "name": "python",
   "nbconvert_exporter": "python",
   "pygments_lexer": "ipython3",
   "version": "3.7.6"
  },
  "toc": {
   "base_numbering": 1,
   "nav_menu": {},
   "number_sections": true,
   "sideBar": true,
   "skip_h1_title": false,
   "title_cell": "Table of Contents",
   "title_sidebar": "Contents",
   "toc_cell": false,
   "toc_position": {},
   "toc_section_display": true,
   "toc_window_display": false
  }
 },
 "nbformat": 4,
 "nbformat_minor": 2
}
